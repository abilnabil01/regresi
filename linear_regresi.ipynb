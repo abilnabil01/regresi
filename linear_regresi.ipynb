{
  "nbformat": 4,
  "nbformat_minor": 0,
  "metadata": {
    "colab": {
      "provenance": []
    },
    "kernelspec": {
      "name": "python3",
      "display_name": "Python 3"
    },
    "language_info": {
      "name": "python"
    }
  },
  "cells": [
    {
      "cell_type": "code",
      "execution_count": 22,
      "metadata": {
        "id": "mU5y_untQzxt"
      },
      "outputs": [],
      "source": [
        "from scipy import stats"
      ]
    },
    {
      "cell_type": "code",
      "source": [
        "x = [161,162,163,164,165,166,167,168,169,170]"
      ],
      "metadata": {
        "id": "9_KX7hlmRBz2"
      },
      "execution_count": 23,
      "outputs": []
    },
    {
      "cell_type": "code",
      "source": [
        "y = [35,45,40,46,48,30,52,54,53,55]"
      ],
      "metadata": {
        "id": "DCoOPGrERCJa"
      },
      "execution_count": 24,
      "outputs": []
    },
    {
      "cell_type": "code",
      "source": [
        "slope, intercept, r, p,std_err = stats.linregress(x,y)"
      ],
      "metadata": {
        "id": "iZZYxe7IS2u6"
      },
      "execution_count": 25,
      "outputs": []
    },
    {
      "cell_type": "code",
      "source": [
        "def myfunc(x):\n",
        "  return slope * x + intercept"
      ],
      "metadata": {
        "id": "mTlpoVvMTVut"
      },
      "execution_count": 26,
      "outputs": []
    },
    {
      "cell_type": "code",
      "source": [
        "berat_badan = myfunc(170)"
      ],
      "metadata": {
        "id": "r6PHGbCmU0Z8"
      },
      "execution_count": 27,
      "outputs": []
    },
    {
      "cell_type": "code",
      "source": [
        "print(berat_badan)"
      ],
      "metadata": {
        "colab": {
          "base_uri": "https://localhost:8080/"
        },
        "id": "Yq09hv_vTxg_",
        "outputId": "fc73443a-385f-4910-8d4d-1ce6ab9e343b"
      },
      "execution_count": 28,
      "outputs": [
        {
          "output_type": "stream",
          "name": "stdout",
          "text": [
            "54.145454545454584\n"
          ]
        }
      ]
    }
  ]
}